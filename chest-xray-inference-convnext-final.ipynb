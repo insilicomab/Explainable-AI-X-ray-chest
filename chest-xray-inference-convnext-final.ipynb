{
 "cells": [
  {
   "cell_type": "markdown",
   "id": "21b0355b",
   "metadata": {
    "papermill": {
     "duration": 0.053302,
     "end_time": "2022-08-16T13:22:14.865742",
     "exception": false,
     "start_time": "2022-08-16T13:22:14.812440",
     "status": "completed"
    },
    "tags": []
   },
   "source": [
    "# 事前準備"
   ]
  },
  {
   "cell_type": "code",
   "execution_count": 1,
   "id": "7ef453ad",
   "metadata": {
    "execution": {
     "iopub.execute_input": "2022-08-16T13:22:14.997596Z",
     "iopub.status.busy": "2022-08-16T13:22:14.996854Z",
     "iopub.status.idle": "2022-08-16T13:22:27.308728Z",
     "shell.execute_reply": "2022-08-16T13:22:27.309225Z",
     "shell.execute_reply.started": "2022-08-16T13:16:28.521303Z"
    },
    "papermill": {
     "duration": 12.38231,
     "end_time": "2022-08-16T13:22:27.309575",
     "exception": false,
     "start_time": "2022-08-16T13:22:14.927265",
     "status": "completed"
    },
    "tags": []
   },
   "outputs": [
    {
     "name": "stdout",
     "output_type": "stream",
     "text": [
      "\u001b[33mWARNING: Running pip as the 'root' user can result in broken permissions and conflicting behaviour with the system package manager. It is recommended to use a virtual environment instead: https://pip.pypa.io/warnings/venv\u001b[0m\r\n"
     ]
    }
   ],
   "source": [
    "!pip install -q timm"
   ]
  },
  {
   "cell_type": "code",
   "execution_count": 2,
   "id": "458eac9d",
   "metadata": {
    "execution": {
     "iopub.execute_input": "2022-08-16T13:22:27.414941Z",
     "iopub.status.busy": "2022-08-16T13:22:27.414239Z",
     "iopub.status.idle": "2022-08-16T13:22:31.970430Z",
     "shell.execute_reply": "2022-08-16T13:22:31.969824Z",
     "shell.execute_reply.started": "2022-08-16T13:16:38.015920Z"
    },
    "papermill": {
     "duration": 4.60902,
     "end_time": "2022-08-16T13:22:31.970644",
     "exception": false,
     "start_time": "2022-08-16T13:22:27.361624",
     "status": "completed"
    },
    "tags": []
   },
   "outputs": [],
   "source": [
    "# ライブラリのインポート\n",
    "import os\n",
    "import re\n",
    "import random\n",
    "from glob import glob\n",
    "from warnings import filterwarnings\n",
    "\n",
    "import argparse\n",
    "\n",
    "import pandas as pd\n",
    "import numpy as np\n",
    "import matplotlib.pyplot as plt\n",
    "import seaborn as sns\n",
    "\n",
    "from sklearn.model_selection import train_test_split\n",
    "from sklearn.metrics import confusion_matrix\n",
    "from sklearn.metrics import accuracy_score, precision_score, recall_score, f1_score\n",
    "\n",
    "import cv2\n",
    "from PIL import Image\n",
    "\n",
    "import torch\n",
    "from torchvision import datasets, transforms, models\n",
    "from torch.utils.data import Dataset, DataLoader\n",
    "from torch import nn, optim\n",
    "\n",
    "import timm\n",
    "\n",
    "from collections import defaultdict\n",
    "\n",
    "filterwarnings('ignore')   # warningをオフにする"
   ]
  },
  {
   "cell_type": "code",
   "execution_count": 3,
   "id": "a880c3cc",
   "metadata": {
    "execution": {
     "iopub.execute_input": "2022-08-16T13:22:32.076360Z",
     "iopub.status.busy": "2022-08-16T13:22:32.075653Z",
     "iopub.status.idle": "2022-08-16T13:22:32.081173Z",
     "shell.execute_reply": "2022-08-16T13:22:32.081707Z",
     "shell.execute_reply.started": "2022-08-16T13:16:41.877028Z"
    },
    "papermill": {
     "duration": 0.06185,
     "end_time": "2022-08-16T13:22:32.081888",
     "exception": false,
     "start_time": "2022-08-16T13:22:32.020038",
     "status": "completed"
    },
    "tags": []
   },
   "outputs": [],
   "source": [
    "# ランダムシードの設定\n",
    "torch.manual_seed(1234)\n",
    "torch.cuda.manual_seed(1234)\n",
    "np.random.seed(1234)\n",
    "random.seed(1234)"
   ]
  },
  {
   "cell_type": "code",
   "execution_count": 4,
   "id": "6a76019d",
   "metadata": {
    "execution": {
     "iopub.execute_input": "2022-08-16T13:22:32.190168Z",
     "iopub.status.busy": "2022-08-16T13:22:32.189462Z",
     "iopub.status.idle": "2022-08-16T13:22:32.196129Z",
     "shell.execute_reply": "2022-08-16T13:22:32.197171Z",
     "shell.execute_reply.started": "2022-08-16T13:16:41.886281Z"
    },
    "papermill": {
     "duration": 0.064166,
     "end_time": "2022-08-16T13:22:32.197537",
     "exception": false,
     "start_time": "2022-08-16T13:22:32.133371",
     "status": "completed"
    },
    "tags": []
   },
   "outputs": [
    {
     "name": "stdout",
     "output_type": "stream",
     "text": [
      "デバイス：cpu\n"
     ]
    }
   ],
   "source": [
    "# デバイスの設定\n",
    "device = 'cuda' if torch.cuda.is_available() else 'cpu'\n",
    "kwargs = {'num_workers': 1, 'pin_memory': True} if torch.cuda.is_available() else {} # GPUが使える場合、DataLoaderでのミニバッチの取り出しを高速化\n",
    "print(f'デバイス：{device}')"
   ]
  },
  {
   "cell_type": "code",
   "execution_count": 5,
   "id": "ab20d62a",
   "metadata": {
    "execution": {
     "iopub.execute_input": "2022-08-16T13:22:32.305391Z",
     "iopub.status.busy": "2022-08-16T13:22:32.304699Z",
     "iopub.status.idle": "2022-08-16T13:22:32.311639Z",
     "shell.execute_reply": "2022-08-16T13:22:32.310438Z",
     "shell.execute_reply.started": "2022-08-16T13:16:41.910505Z"
    },
    "papermill": {
     "duration": 0.062332,
     "end_time": "2022-08-16T13:22:32.311861",
     "exception": false,
     "start_time": "2022-08-16T13:22:32.249529",
     "status": "completed"
    },
    "tags": []
   },
   "outputs": [
    {
     "name": "stdout",
     "output_type": "stream",
     "text": [
      "Namespace(image_size=224, num_classes=2)\n"
     ]
    }
   ],
   "source": [
    "# ハイパーパラメータの設定\n",
    "parser = argparse.ArgumentParser()\n",
    "parser.add_argument('--image_size', type=int, default=224)\n",
    "parser.add_argument('--num_classes', type=int, default=2)\n",
    "opt = parser.parse_args(args=[])\n",
    "print(opt)"
   ]
  },
  {
   "cell_type": "code",
   "execution_count": 6,
   "id": "89073e20",
   "metadata": {
    "execution": {
     "iopub.execute_input": "2022-08-16T13:22:32.419272Z",
     "iopub.status.busy": "2022-08-16T13:22:32.418265Z",
     "iopub.status.idle": "2022-08-16T13:22:32.422283Z",
     "shell.execute_reply": "2022-08-16T13:22:32.422913Z",
     "shell.execute_reply.started": "2022-08-16T13:16:41.922963Z"
    },
    "papermill": {
     "duration": 0.05887,
     "end_time": "2022-08-16T13:22:32.423129",
     "exception": false,
     "start_time": "2022-08-16T13:22:32.364259",
     "status": "completed"
    },
    "tags": []
   },
   "outputs": [],
   "source": [
    "# NORMALのtestデータのディレクトリ\n",
    "test_normal_dir = '/kaggle/input/chest-xray-pneumonia/chest_xray/chest_xray/test/NORMAL/'\n",
    "\n",
    "# PNEUMONIAのtestデータのディレクトリ\n",
    "test_pneumonia_dir = '/kaggle/input/chest-xray-pneumonia/chest_xray/chest_xray/test/PNEUMONIA/'"
   ]
  },
  {
   "cell_type": "markdown",
   "id": "6381dd43",
   "metadata": {
    "papermill": {
     "duration": 0.050344,
     "end_time": "2022-08-16T13:22:32.523716",
     "exception": false,
     "start_time": "2022-08-16T13:22:32.473372",
     "status": "completed"
    },
    "tags": []
   },
   "source": [
    "# 学習済みパラメータの読み込み"
   ]
  },
  {
   "cell_type": "code",
   "execution_count": 7,
   "id": "de678b55",
   "metadata": {
    "execution": {
     "iopub.execute_input": "2022-08-16T13:22:32.630579Z",
     "iopub.status.busy": "2022-08-16T13:22:32.629234Z",
     "iopub.status.idle": "2022-08-16T13:22:32.633518Z",
     "shell.execute_reply": "2022-08-16T13:22:32.634222Z",
     "shell.execute_reply.started": "2022-08-16T13:16:41.932191Z"
    },
    "papermill": {
     "duration": 0.05945,
     "end_time": "2022-08-16T13:22:32.634426",
     "exception": false,
     "start_time": "2022-08-16T13:22:32.574976",
     "status": "completed"
    },
    "tags": []
   },
   "outputs": [],
   "source": [
    "# モデルのパス\n",
    "model_path = '../input/chest-xray-training-convnext-final/convnext_base.pth'"
   ]
  },
  {
   "cell_type": "code",
   "execution_count": 8,
   "id": "0ec4bc4e",
   "metadata": {
    "execution": {
     "iopub.execute_input": "2022-08-16T13:22:32.742227Z",
     "iopub.status.busy": "2022-08-16T13:22:32.741544Z",
     "iopub.status.idle": "2022-08-16T13:22:34.527436Z",
     "shell.execute_reply": "2022-08-16T13:22:34.526792Z",
     "shell.execute_reply.started": "2022-08-16T13:16:41.943214Z"
    },
    "papermill": {
     "duration": 1.840637,
     "end_time": "2022-08-16T13:22:34.527623",
     "exception": false,
     "start_time": "2022-08-16T13:22:32.686986",
     "status": "completed"
    },
    "tags": []
   },
   "outputs": [],
   "source": [
    "# 学習済みモデルの読み込み\n",
    "model = timm.create_model('convnext_base', num_classes=opt.num_classes, pretrained=False)"
   ]
  },
  {
   "cell_type": "code",
   "execution_count": 9,
   "id": "616f0ed5",
   "metadata": {
    "execution": {
     "iopub.execute_input": "2022-08-16T13:22:34.633866Z",
     "iopub.status.busy": "2022-08-16T13:22:34.633052Z",
     "iopub.status.idle": "2022-08-16T13:22:37.752916Z",
     "shell.execute_reply": "2022-08-16T13:22:37.754113Z",
     "shell.execute_reply.started": "2022-08-16T13:16:43.221936Z"
    },
    "papermill": {
     "duration": 3.17603,
     "end_time": "2022-08-16T13:22:37.754324",
     "exception": false,
     "start_time": "2022-08-16T13:22:34.578294",
     "status": "completed"
    },
    "tags": []
   },
   "outputs": [
    {
     "data": {
      "text/plain": [
       "<All keys matched successfully>"
      ]
     },
     "execution_count": 9,
     "metadata": {},
     "output_type": "execute_result"
    }
   ],
   "source": [
    "# 学習済みモデルの読み込み\n",
    "model.load_state_dict(torch.load(model_path, map_location=torch.device('cpu'))) # 学習済みモデルの読み込み"
   ]
  },
  {
   "cell_type": "code",
   "execution_count": 10,
   "id": "f4c2c185",
   "metadata": {
    "execution": {
     "iopub.execute_input": "2022-08-16T13:22:37.867350Z",
     "iopub.status.busy": "2022-08-16T13:22:37.864197Z",
     "iopub.status.idle": "2022-08-16T13:22:37.880979Z",
     "shell.execute_reply": "2022-08-16T13:22:37.881522Z",
     "shell.execute_reply.started": "2022-08-16T13:16:46.564159Z"
    },
    "papermill": {
     "duration": 0.074509,
     "end_time": "2022-08-16T13:22:37.881709",
     "exception": false,
     "start_time": "2022-08-16T13:22:37.807200",
     "status": "completed"
    },
    "tags": []
   },
   "outputs": [
    {
     "data": {
      "text/plain": [
       "ConvNeXt(\n",
       "  (stem): Sequential(\n",
       "    (0): Conv2d(3, 128, kernel_size=(4, 4), stride=(4, 4))\n",
       "    (1): LayerNorm2d((128,), eps=1e-06, elementwise_affine=True)\n",
       "  )\n",
       "  (stages): Sequential(\n",
       "    (0): ConvNeXtStage(\n",
       "      (downsample): Identity()\n",
       "      (blocks): Sequential(\n",
       "        (0): ConvNeXtBlock(\n",
       "          (conv_dw): Conv2d(128, 128, kernel_size=(7, 7), stride=(1, 1), padding=(3, 3), groups=128)\n",
       "          (norm): LayerNorm((128,), eps=1e-06, elementwise_affine=True)\n",
       "          (mlp): Mlp(\n",
       "            (fc1): Linear(in_features=128, out_features=512, bias=True)\n",
       "            (act): GELU()\n",
       "            (drop1): Dropout(p=0.0, inplace=False)\n",
       "            (fc2): Linear(in_features=512, out_features=128, bias=True)\n",
       "            (drop2): Dropout(p=0.0, inplace=False)\n",
       "          )\n",
       "          (drop_path): Identity()\n",
       "        )\n",
       "        (1): ConvNeXtBlock(\n",
       "          (conv_dw): Conv2d(128, 128, kernel_size=(7, 7), stride=(1, 1), padding=(3, 3), groups=128)\n",
       "          (norm): LayerNorm((128,), eps=1e-06, elementwise_affine=True)\n",
       "          (mlp): Mlp(\n",
       "            (fc1): Linear(in_features=128, out_features=512, bias=True)\n",
       "            (act): GELU()\n",
       "            (drop1): Dropout(p=0.0, inplace=False)\n",
       "            (fc2): Linear(in_features=512, out_features=128, bias=True)\n",
       "            (drop2): Dropout(p=0.0, inplace=False)\n",
       "          )\n",
       "          (drop_path): Identity()\n",
       "        )\n",
       "        (2): ConvNeXtBlock(\n",
       "          (conv_dw): Conv2d(128, 128, kernel_size=(7, 7), stride=(1, 1), padding=(3, 3), groups=128)\n",
       "          (norm): LayerNorm((128,), eps=1e-06, elementwise_affine=True)\n",
       "          (mlp): Mlp(\n",
       "            (fc1): Linear(in_features=128, out_features=512, bias=True)\n",
       "            (act): GELU()\n",
       "            (drop1): Dropout(p=0.0, inplace=False)\n",
       "            (fc2): Linear(in_features=512, out_features=128, bias=True)\n",
       "            (drop2): Dropout(p=0.0, inplace=False)\n",
       "          )\n",
       "          (drop_path): Identity()\n",
       "        )\n",
       "      )\n",
       "    )\n",
       "    (1): ConvNeXtStage(\n",
       "      (downsample): Sequential(\n",
       "        (0): LayerNorm2d((128,), eps=1e-06, elementwise_affine=True)\n",
       "        (1): Conv2d(128, 256, kernel_size=(2, 2), stride=(2, 2))\n",
       "      )\n",
       "      (blocks): Sequential(\n",
       "        (0): ConvNeXtBlock(\n",
       "          (conv_dw): Conv2d(256, 256, kernel_size=(7, 7), stride=(1, 1), padding=(3, 3), groups=256)\n",
       "          (norm): LayerNorm((256,), eps=1e-06, elementwise_affine=True)\n",
       "          (mlp): Mlp(\n",
       "            (fc1): Linear(in_features=256, out_features=1024, bias=True)\n",
       "            (act): GELU()\n",
       "            (drop1): Dropout(p=0.0, inplace=False)\n",
       "            (fc2): Linear(in_features=1024, out_features=256, bias=True)\n",
       "            (drop2): Dropout(p=0.0, inplace=False)\n",
       "          )\n",
       "          (drop_path): Identity()\n",
       "        )\n",
       "        (1): ConvNeXtBlock(\n",
       "          (conv_dw): Conv2d(256, 256, kernel_size=(7, 7), stride=(1, 1), padding=(3, 3), groups=256)\n",
       "          (norm): LayerNorm((256,), eps=1e-06, elementwise_affine=True)\n",
       "          (mlp): Mlp(\n",
       "            (fc1): Linear(in_features=256, out_features=1024, bias=True)\n",
       "            (act): GELU()\n",
       "            (drop1): Dropout(p=0.0, inplace=False)\n",
       "            (fc2): Linear(in_features=1024, out_features=256, bias=True)\n",
       "            (drop2): Dropout(p=0.0, inplace=False)\n",
       "          )\n",
       "          (drop_path): Identity()\n",
       "        )\n",
       "        (2): ConvNeXtBlock(\n",
       "          (conv_dw): Conv2d(256, 256, kernel_size=(7, 7), stride=(1, 1), padding=(3, 3), groups=256)\n",
       "          (norm): LayerNorm((256,), eps=1e-06, elementwise_affine=True)\n",
       "          (mlp): Mlp(\n",
       "            (fc1): Linear(in_features=256, out_features=1024, bias=True)\n",
       "            (act): GELU()\n",
       "            (drop1): Dropout(p=0.0, inplace=False)\n",
       "            (fc2): Linear(in_features=1024, out_features=256, bias=True)\n",
       "            (drop2): Dropout(p=0.0, inplace=False)\n",
       "          )\n",
       "          (drop_path): Identity()\n",
       "        )\n",
       "      )\n",
       "    )\n",
       "    (2): ConvNeXtStage(\n",
       "      (downsample): Sequential(\n",
       "        (0): LayerNorm2d((256,), eps=1e-06, elementwise_affine=True)\n",
       "        (1): Conv2d(256, 512, kernel_size=(2, 2), stride=(2, 2))\n",
       "      )\n",
       "      (blocks): Sequential(\n",
       "        (0): ConvNeXtBlock(\n",
       "          (conv_dw): Conv2d(512, 512, kernel_size=(7, 7), stride=(1, 1), padding=(3, 3), groups=512)\n",
       "          (norm): LayerNorm((512,), eps=1e-06, elementwise_affine=True)\n",
       "          (mlp): Mlp(\n",
       "            (fc1): Linear(in_features=512, out_features=2048, bias=True)\n",
       "            (act): GELU()\n",
       "            (drop1): Dropout(p=0.0, inplace=False)\n",
       "            (fc2): Linear(in_features=2048, out_features=512, bias=True)\n",
       "            (drop2): Dropout(p=0.0, inplace=False)\n",
       "          )\n",
       "          (drop_path): Identity()\n",
       "        )\n",
       "        (1): ConvNeXtBlock(\n",
       "          (conv_dw): Conv2d(512, 512, kernel_size=(7, 7), stride=(1, 1), padding=(3, 3), groups=512)\n",
       "          (norm): LayerNorm((512,), eps=1e-06, elementwise_affine=True)\n",
       "          (mlp): Mlp(\n",
       "            (fc1): Linear(in_features=512, out_features=2048, bias=True)\n",
       "            (act): GELU()\n",
       "            (drop1): Dropout(p=0.0, inplace=False)\n",
       "            (fc2): Linear(in_features=2048, out_features=512, bias=True)\n",
       "            (drop2): Dropout(p=0.0, inplace=False)\n",
       "          )\n",
       "          (drop_path): Identity()\n",
       "        )\n",
       "        (2): ConvNeXtBlock(\n",
       "          (conv_dw): Conv2d(512, 512, kernel_size=(7, 7), stride=(1, 1), padding=(3, 3), groups=512)\n",
       "          (norm): LayerNorm((512,), eps=1e-06, elementwise_affine=True)\n",
       "          (mlp): Mlp(\n",
       "            (fc1): Linear(in_features=512, out_features=2048, bias=True)\n",
       "            (act): GELU()\n",
       "            (drop1): Dropout(p=0.0, inplace=False)\n",
       "            (fc2): Linear(in_features=2048, out_features=512, bias=True)\n",
       "            (drop2): Dropout(p=0.0, inplace=False)\n",
       "          )\n",
       "          (drop_path): Identity()\n",
       "        )\n",
       "        (3): ConvNeXtBlock(\n",
       "          (conv_dw): Conv2d(512, 512, kernel_size=(7, 7), stride=(1, 1), padding=(3, 3), groups=512)\n",
       "          (norm): LayerNorm((512,), eps=1e-06, elementwise_affine=True)\n",
       "          (mlp): Mlp(\n",
       "            (fc1): Linear(in_features=512, out_features=2048, bias=True)\n",
       "            (act): GELU()\n",
       "            (drop1): Dropout(p=0.0, inplace=False)\n",
       "            (fc2): Linear(in_features=2048, out_features=512, bias=True)\n",
       "            (drop2): Dropout(p=0.0, inplace=False)\n",
       "          )\n",
       "          (drop_path): Identity()\n",
       "        )\n",
       "        (4): ConvNeXtBlock(\n",
       "          (conv_dw): Conv2d(512, 512, kernel_size=(7, 7), stride=(1, 1), padding=(3, 3), groups=512)\n",
       "          (norm): LayerNorm((512,), eps=1e-06, elementwise_affine=True)\n",
       "          (mlp): Mlp(\n",
       "            (fc1): Linear(in_features=512, out_features=2048, bias=True)\n",
       "            (act): GELU()\n",
       "            (drop1): Dropout(p=0.0, inplace=False)\n",
       "            (fc2): Linear(in_features=2048, out_features=512, bias=True)\n",
       "            (drop2): Dropout(p=0.0, inplace=False)\n",
       "          )\n",
       "          (drop_path): Identity()\n",
       "        )\n",
       "        (5): ConvNeXtBlock(\n",
       "          (conv_dw): Conv2d(512, 512, kernel_size=(7, 7), stride=(1, 1), padding=(3, 3), groups=512)\n",
       "          (norm): LayerNorm((512,), eps=1e-06, elementwise_affine=True)\n",
       "          (mlp): Mlp(\n",
       "            (fc1): Linear(in_features=512, out_features=2048, bias=True)\n",
       "            (act): GELU()\n",
       "            (drop1): Dropout(p=0.0, inplace=False)\n",
       "            (fc2): Linear(in_features=2048, out_features=512, bias=True)\n",
       "            (drop2): Dropout(p=0.0, inplace=False)\n",
       "          )\n",
       "          (drop_path): Identity()\n",
       "        )\n",
       "        (6): ConvNeXtBlock(\n",
       "          (conv_dw): Conv2d(512, 512, kernel_size=(7, 7), stride=(1, 1), padding=(3, 3), groups=512)\n",
       "          (norm): LayerNorm((512,), eps=1e-06, elementwise_affine=True)\n",
       "          (mlp): Mlp(\n",
       "            (fc1): Linear(in_features=512, out_features=2048, bias=True)\n",
       "            (act): GELU()\n",
       "            (drop1): Dropout(p=0.0, inplace=False)\n",
       "            (fc2): Linear(in_features=2048, out_features=512, bias=True)\n",
       "            (drop2): Dropout(p=0.0, inplace=False)\n",
       "          )\n",
       "          (drop_path): Identity()\n",
       "        )\n",
       "        (7): ConvNeXtBlock(\n",
       "          (conv_dw): Conv2d(512, 512, kernel_size=(7, 7), stride=(1, 1), padding=(3, 3), groups=512)\n",
       "          (norm): LayerNorm((512,), eps=1e-06, elementwise_affine=True)\n",
       "          (mlp): Mlp(\n",
       "            (fc1): Linear(in_features=512, out_features=2048, bias=True)\n",
       "            (act): GELU()\n",
       "            (drop1): Dropout(p=0.0, inplace=False)\n",
       "            (fc2): Linear(in_features=2048, out_features=512, bias=True)\n",
       "            (drop2): Dropout(p=0.0, inplace=False)\n",
       "          )\n",
       "          (drop_path): Identity()\n",
       "        )\n",
       "        (8): ConvNeXtBlock(\n",
       "          (conv_dw): Conv2d(512, 512, kernel_size=(7, 7), stride=(1, 1), padding=(3, 3), groups=512)\n",
       "          (norm): LayerNorm((512,), eps=1e-06, elementwise_affine=True)\n",
       "          (mlp): Mlp(\n",
       "            (fc1): Linear(in_features=512, out_features=2048, bias=True)\n",
       "            (act): GELU()\n",
       "            (drop1): Dropout(p=0.0, inplace=False)\n",
       "            (fc2): Linear(in_features=2048, out_features=512, bias=True)\n",
       "            (drop2): Dropout(p=0.0, inplace=False)\n",
       "          )\n",
       "          (drop_path): Identity()\n",
       "        )\n",
       "        (9): ConvNeXtBlock(\n",
       "          (conv_dw): Conv2d(512, 512, kernel_size=(7, 7), stride=(1, 1), padding=(3, 3), groups=512)\n",
       "          (norm): LayerNorm((512,), eps=1e-06, elementwise_affine=True)\n",
       "          (mlp): Mlp(\n",
       "            (fc1): Linear(in_features=512, out_features=2048, bias=True)\n",
       "            (act): GELU()\n",
       "            (drop1): Dropout(p=0.0, inplace=False)\n",
       "            (fc2): Linear(in_features=2048, out_features=512, bias=True)\n",
       "            (drop2): Dropout(p=0.0, inplace=False)\n",
       "          )\n",
       "          (drop_path): Identity()\n",
       "        )\n",
       "        (10): ConvNeXtBlock(\n",
       "          (conv_dw): Conv2d(512, 512, kernel_size=(7, 7), stride=(1, 1), padding=(3, 3), groups=512)\n",
       "          (norm): LayerNorm((512,), eps=1e-06, elementwise_affine=True)\n",
       "          (mlp): Mlp(\n",
       "            (fc1): Linear(in_features=512, out_features=2048, bias=True)\n",
       "            (act): GELU()\n",
       "            (drop1): Dropout(p=0.0, inplace=False)\n",
       "            (fc2): Linear(in_features=2048, out_features=512, bias=True)\n",
       "            (drop2): Dropout(p=0.0, inplace=False)\n",
       "          )\n",
       "          (drop_path): Identity()\n",
       "        )\n",
       "        (11): ConvNeXtBlock(\n",
       "          (conv_dw): Conv2d(512, 512, kernel_size=(7, 7), stride=(1, 1), padding=(3, 3), groups=512)\n",
       "          (norm): LayerNorm((512,), eps=1e-06, elementwise_affine=True)\n",
       "          (mlp): Mlp(\n",
       "            (fc1): Linear(in_features=512, out_features=2048, bias=True)\n",
       "            (act): GELU()\n",
       "            (drop1): Dropout(p=0.0, inplace=False)\n",
       "            (fc2): Linear(in_features=2048, out_features=512, bias=True)\n",
       "            (drop2): Dropout(p=0.0, inplace=False)\n",
       "          )\n",
       "          (drop_path): Identity()\n",
       "        )\n",
       "        (12): ConvNeXtBlock(\n",
       "          (conv_dw): Conv2d(512, 512, kernel_size=(7, 7), stride=(1, 1), padding=(3, 3), groups=512)\n",
       "          (norm): LayerNorm((512,), eps=1e-06, elementwise_affine=True)\n",
       "          (mlp): Mlp(\n",
       "            (fc1): Linear(in_features=512, out_features=2048, bias=True)\n",
       "            (act): GELU()\n",
       "            (drop1): Dropout(p=0.0, inplace=False)\n",
       "            (fc2): Linear(in_features=2048, out_features=512, bias=True)\n",
       "            (drop2): Dropout(p=0.0, inplace=False)\n",
       "          )\n",
       "          (drop_path): Identity()\n",
       "        )\n",
       "        (13): ConvNeXtBlock(\n",
       "          (conv_dw): Conv2d(512, 512, kernel_size=(7, 7), stride=(1, 1), padding=(3, 3), groups=512)\n",
       "          (norm): LayerNorm((512,), eps=1e-06, elementwise_affine=True)\n",
       "          (mlp): Mlp(\n",
       "            (fc1): Linear(in_features=512, out_features=2048, bias=True)\n",
       "            (act): GELU()\n",
       "            (drop1): Dropout(p=0.0, inplace=False)\n",
       "            (fc2): Linear(in_features=2048, out_features=512, bias=True)\n",
       "            (drop2): Dropout(p=0.0, inplace=False)\n",
       "          )\n",
       "          (drop_path): Identity()\n",
       "        )\n",
       "        (14): ConvNeXtBlock(\n",
       "          (conv_dw): Conv2d(512, 512, kernel_size=(7, 7), stride=(1, 1), padding=(3, 3), groups=512)\n",
       "          (norm): LayerNorm((512,), eps=1e-06, elementwise_affine=True)\n",
       "          (mlp): Mlp(\n",
       "            (fc1): Linear(in_features=512, out_features=2048, bias=True)\n",
       "            (act): GELU()\n",
       "            (drop1): Dropout(p=0.0, inplace=False)\n",
       "            (fc2): Linear(in_features=2048, out_features=512, bias=True)\n",
       "            (drop2): Dropout(p=0.0, inplace=False)\n",
       "          )\n",
       "          (drop_path): Identity()\n",
       "        )\n",
       "        (15): ConvNeXtBlock(\n",
       "          (conv_dw): Conv2d(512, 512, kernel_size=(7, 7), stride=(1, 1), padding=(3, 3), groups=512)\n",
       "          (norm): LayerNorm((512,), eps=1e-06, elementwise_affine=True)\n",
       "          (mlp): Mlp(\n",
       "            (fc1): Linear(in_features=512, out_features=2048, bias=True)\n",
       "            (act): GELU()\n",
       "            (drop1): Dropout(p=0.0, inplace=False)\n",
       "            (fc2): Linear(in_features=2048, out_features=512, bias=True)\n",
       "            (drop2): Dropout(p=0.0, inplace=False)\n",
       "          )\n",
       "          (drop_path): Identity()\n",
       "        )\n",
       "        (16): ConvNeXtBlock(\n",
       "          (conv_dw): Conv2d(512, 512, kernel_size=(7, 7), stride=(1, 1), padding=(3, 3), groups=512)\n",
       "          (norm): LayerNorm((512,), eps=1e-06, elementwise_affine=True)\n",
       "          (mlp): Mlp(\n",
       "            (fc1): Linear(in_features=512, out_features=2048, bias=True)\n",
       "            (act): GELU()\n",
       "            (drop1): Dropout(p=0.0, inplace=False)\n",
       "            (fc2): Linear(in_features=2048, out_features=512, bias=True)\n",
       "            (drop2): Dropout(p=0.0, inplace=False)\n",
       "          )\n",
       "          (drop_path): Identity()\n",
       "        )\n",
       "        (17): ConvNeXtBlock(\n",
       "          (conv_dw): Conv2d(512, 512, kernel_size=(7, 7), stride=(1, 1), padding=(3, 3), groups=512)\n",
       "          (norm): LayerNorm((512,), eps=1e-06, elementwise_affine=True)\n",
       "          (mlp): Mlp(\n",
       "            (fc1): Linear(in_features=512, out_features=2048, bias=True)\n",
       "            (act): GELU()\n",
       "            (drop1): Dropout(p=0.0, inplace=False)\n",
       "            (fc2): Linear(in_features=2048, out_features=512, bias=True)\n",
       "            (drop2): Dropout(p=0.0, inplace=False)\n",
       "          )\n",
       "          (drop_path): Identity()\n",
       "        )\n",
       "        (18): ConvNeXtBlock(\n",
       "          (conv_dw): Conv2d(512, 512, kernel_size=(7, 7), stride=(1, 1), padding=(3, 3), groups=512)\n",
       "          (norm): LayerNorm((512,), eps=1e-06, elementwise_affine=True)\n",
       "          (mlp): Mlp(\n",
       "            (fc1): Linear(in_features=512, out_features=2048, bias=True)\n",
       "            (act): GELU()\n",
       "            (drop1): Dropout(p=0.0, inplace=False)\n",
       "            (fc2): Linear(in_features=2048, out_features=512, bias=True)\n",
       "            (drop2): Dropout(p=0.0, inplace=False)\n",
       "          )\n",
       "          (drop_path): Identity()\n",
       "        )\n",
       "        (19): ConvNeXtBlock(\n",
       "          (conv_dw): Conv2d(512, 512, kernel_size=(7, 7), stride=(1, 1), padding=(3, 3), groups=512)\n",
       "          (norm): LayerNorm((512,), eps=1e-06, elementwise_affine=True)\n",
       "          (mlp): Mlp(\n",
       "            (fc1): Linear(in_features=512, out_features=2048, bias=True)\n",
       "            (act): GELU()\n",
       "            (drop1): Dropout(p=0.0, inplace=False)\n",
       "            (fc2): Linear(in_features=2048, out_features=512, bias=True)\n",
       "            (drop2): Dropout(p=0.0, inplace=False)\n",
       "          )\n",
       "          (drop_path): Identity()\n",
       "        )\n",
       "        (20): ConvNeXtBlock(\n",
       "          (conv_dw): Conv2d(512, 512, kernel_size=(7, 7), stride=(1, 1), padding=(3, 3), groups=512)\n",
       "          (norm): LayerNorm((512,), eps=1e-06, elementwise_affine=True)\n",
       "          (mlp): Mlp(\n",
       "            (fc1): Linear(in_features=512, out_features=2048, bias=True)\n",
       "            (act): GELU()\n",
       "            (drop1): Dropout(p=0.0, inplace=False)\n",
       "            (fc2): Linear(in_features=2048, out_features=512, bias=True)\n",
       "            (drop2): Dropout(p=0.0, inplace=False)\n",
       "          )\n",
       "          (drop_path): Identity()\n",
       "        )\n",
       "        (21): ConvNeXtBlock(\n",
       "          (conv_dw): Conv2d(512, 512, kernel_size=(7, 7), stride=(1, 1), padding=(3, 3), groups=512)\n",
       "          (norm): LayerNorm((512,), eps=1e-06, elementwise_affine=True)\n",
       "          (mlp): Mlp(\n",
       "            (fc1): Linear(in_features=512, out_features=2048, bias=True)\n",
       "            (act): GELU()\n",
       "            (drop1): Dropout(p=0.0, inplace=False)\n",
       "            (fc2): Linear(in_features=2048, out_features=512, bias=True)\n",
       "            (drop2): Dropout(p=0.0, inplace=False)\n",
       "          )\n",
       "          (drop_path): Identity()\n",
       "        )\n",
       "        (22): ConvNeXtBlock(\n",
       "          (conv_dw): Conv2d(512, 512, kernel_size=(7, 7), stride=(1, 1), padding=(3, 3), groups=512)\n",
       "          (norm): LayerNorm((512,), eps=1e-06, elementwise_affine=True)\n",
       "          (mlp): Mlp(\n",
       "            (fc1): Linear(in_features=512, out_features=2048, bias=True)\n",
       "            (act): GELU()\n",
       "            (drop1): Dropout(p=0.0, inplace=False)\n",
       "            (fc2): Linear(in_features=2048, out_features=512, bias=True)\n",
       "            (drop2): Dropout(p=0.0, inplace=False)\n",
       "          )\n",
       "          (drop_path): Identity()\n",
       "        )\n",
       "        (23): ConvNeXtBlock(\n",
       "          (conv_dw): Conv2d(512, 512, kernel_size=(7, 7), stride=(1, 1), padding=(3, 3), groups=512)\n",
       "          (norm): LayerNorm((512,), eps=1e-06, elementwise_affine=True)\n",
       "          (mlp): Mlp(\n",
       "            (fc1): Linear(in_features=512, out_features=2048, bias=True)\n",
       "            (act): GELU()\n",
       "            (drop1): Dropout(p=0.0, inplace=False)\n",
       "            (fc2): Linear(in_features=2048, out_features=512, bias=True)\n",
       "            (drop2): Dropout(p=0.0, inplace=False)\n",
       "          )\n",
       "          (drop_path): Identity()\n",
       "        )\n",
       "        (24): ConvNeXtBlock(\n",
       "          (conv_dw): Conv2d(512, 512, kernel_size=(7, 7), stride=(1, 1), padding=(3, 3), groups=512)\n",
       "          (norm): LayerNorm((512,), eps=1e-06, elementwise_affine=True)\n",
       "          (mlp): Mlp(\n",
       "            (fc1): Linear(in_features=512, out_features=2048, bias=True)\n",
       "            (act): GELU()\n",
       "            (drop1): Dropout(p=0.0, inplace=False)\n",
       "            (fc2): Linear(in_features=2048, out_features=512, bias=True)\n",
       "            (drop2): Dropout(p=0.0, inplace=False)\n",
       "          )\n",
       "          (drop_path): Identity()\n",
       "        )\n",
       "        (25): ConvNeXtBlock(\n",
       "          (conv_dw): Conv2d(512, 512, kernel_size=(7, 7), stride=(1, 1), padding=(3, 3), groups=512)\n",
       "          (norm): LayerNorm((512,), eps=1e-06, elementwise_affine=True)\n",
       "          (mlp): Mlp(\n",
       "            (fc1): Linear(in_features=512, out_features=2048, bias=True)\n",
       "            (act): GELU()\n",
       "            (drop1): Dropout(p=0.0, inplace=False)\n",
       "            (fc2): Linear(in_features=2048, out_features=512, bias=True)\n",
       "            (drop2): Dropout(p=0.0, inplace=False)\n",
       "          )\n",
       "          (drop_path): Identity()\n",
       "        )\n",
       "        (26): ConvNeXtBlock(\n",
       "          (conv_dw): Conv2d(512, 512, kernel_size=(7, 7), stride=(1, 1), padding=(3, 3), groups=512)\n",
       "          (norm): LayerNorm((512,), eps=1e-06, elementwise_affine=True)\n",
       "          (mlp): Mlp(\n",
       "            (fc1): Linear(in_features=512, out_features=2048, bias=True)\n",
       "            (act): GELU()\n",
       "            (drop1): Dropout(p=0.0, inplace=False)\n",
       "            (fc2): Linear(in_features=2048, out_features=512, bias=True)\n",
       "            (drop2): Dropout(p=0.0, inplace=False)\n",
       "          )\n",
       "          (drop_path): Identity()\n",
       "        )\n",
       "      )\n",
       "    )\n",
       "    (3): ConvNeXtStage(\n",
       "      (downsample): Sequential(\n",
       "        (0): LayerNorm2d((512,), eps=1e-06, elementwise_affine=True)\n",
       "        (1): Conv2d(512, 1024, kernel_size=(2, 2), stride=(2, 2))\n",
       "      )\n",
       "      (blocks): Sequential(\n",
       "        (0): ConvNeXtBlock(\n",
       "          (conv_dw): Conv2d(1024, 1024, kernel_size=(7, 7), stride=(1, 1), padding=(3, 3), groups=1024)\n",
       "          (norm): LayerNorm((1024,), eps=1e-06, elementwise_affine=True)\n",
       "          (mlp): Mlp(\n",
       "            (fc1): Linear(in_features=1024, out_features=4096, bias=True)\n",
       "            (act): GELU()\n",
       "            (drop1): Dropout(p=0.0, inplace=False)\n",
       "            (fc2): Linear(in_features=4096, out_features=1024, bias=True)\n",
       "            (drop2): Dropout(p=0.0, inplace=False)\n",
       "          )\n",
       "          (drop_path): Identity()\n",
       "        )\n",
       "        (1): ConvNeXtBlock(\n",
       "          (conv_dw): Conv2d(1024, 1024, kernel_size=(7, 7), stride=(1, 1), padding=(3, 3), groups=1024)\n",
       "          (norm): LayerNorm((1024,), eps=1e-06, elementwise_affine=True)\n",
       "          (mlp): Mlp(\n",
       "            (fc1): Linear(in_features=1024, out_features=4096, bias=True)\n",
       "            (act): GELU()\n",
       "            (drop1): Dropout(p=0.0, inplace=False)\n",
       "            (fc2): Linear(in_features=4096, out_features=1024, bias=True)\n",
       "            (drop2): Dropout(p=0.0, inplace=False)\n",
       "          )\n",
       "          (drop_path): Identity()\n",
       "        )\n",
       "        (2): ConvNeXtBlock(\n",
       "          (conv_dw): Conv2d(1024, 1024, kernel_size=(7, 7), stride=(1, 1), padding=(3, 3), groups=1024)\n",
       "          (norm): LayerNorm((1024,), eps=1e-06, elementwise_affine=True)\n",
       "          (mlp): Mlp(\n",
       "            (fc1): Linear(in_features=1024, out_features=4096, bias=True)\n",
       "            (act): GELU()\n",
       "            (drop1): Dropout(p=0.0, inplace=False)\n",
       "            (fc2): Linear(in_features=4096, out_features=1024, bias=True)\n",
       "            (drop2): Dropout(p=0.0, inplace=False)\n",
       "          )\n",
       "          (drop_path): Identity()\n",
       "        )\n",
       "      )\n",
       "    )\n",
       "  )\n",
       "  (norm_pre): Identity()\n",
       "  (head): Sequential(\n",
       "    (global_pool): SelectAdaptivePool2d (pool_type=avg, flatten=Identity())\n",
       "    (norm): LayerNorm2d((1024,), eps=1e-06, elementwise_affine=True)\n",
       "    (flatten): Flatten(start_dim=1, end_dim=-1)\n",
       "    (drop): Dropout(p=0.0, inplace=False)\n",
       "    (fc): Linear(in_features=1024, out_features=2, bias=True)\n",
       "  )\n",
       ")"
      ]
     },
     "execution_count": 10,
     "metadata": {},
     "output_type": "execute_result"
    }
   ],
   "source": [
    "# モデルをGPUに送る\n",
    "model.to(device)"
   ]
  },
  {
   "cell_type": "markdown",
   "id": "281199ad",
   "metadata": {
    "papermill": {
     "duration": 0.054047,
     "end_time": "2022-08-16T13:22:37.987086",
     "exception": false,
     "start_time": "2022-08-16T13:22:37.933039",
     "status": "completed"
    },
    "tags": []
   },
   "source": [
    "# transform"
   ]
  },
  {
   "cell_type": "code",
   "execution_count": 11,
   "id": "a670fcc7",
   "metadata": {
    "execution": {
     "iopub.execute_input": "2022-08-16T13:22:38.098021Z",
     "iopub.status.busy": "2022-08-16T13:22:38.097146Z",
     "iopub.status.idle": "2022-08-16T13:22:38.100075Z",
     "shell.execute_reply": "2022-08-16T13:22:38.099524Z",
     "shell.execute_reply.started": "2022-08-16T13:16:46.584379Z"
    },
    "papermill": {
     "duration": 0.060491,
     "end_time": "2022-08-16T13:22:38.100246",
     "exception": false,
     "start_time": "2022-08-16T13:22:38.039755",
     "status": "completed"
    },
    "tags": []
   },
   "outputs": [],
   "source": [
    "# 両サイドを10%切り取るクラス\n",
    "class SideCrop():\n",
    "    def __call__(self, image):\n",
    "        w, h = image.size\n",
    "        w1 = 0.05 * w\n",
    "        h1 = 0.05 * h\n",
    "        image_crop = image.crop((w1, 0, w-w1, h)) # (left, upper, right, lower)\n",
    "        return image_crop"
   ]
  },
  {
   "cell_type": "code",
   "execution_count": 12,
   "id": "0251153e",
   "metadata": {
    "execution": {
     "iopub.execute_input": "2022-08-16T13:22:38.207711Z",
     "iopub.status.busy": "2022-08-16T13:22:38.206957Z",
     "iopub.status.idle": "2022-08-16T13:22:38.214509Z",
     "shell.execute_reply": "2022-08-16T13:22:38.215151Z",
     "shell.execute_reply.started": "2022-08-16T13:16:46.590759Z"
    },
    "papermill": {
     "duration": 0.063225,
     "end_time": "2022-08-16T13:22:38.215338",
     "exception": false,
     "start_time": "2022-08-16T13:22:38.152113",
     "status": "completed"
    },
    "tags": []
   },
   "outputs": [],
   "source": [
    "# transformの設定\n",
    "transform = {\n",
    "    'train': transforms.Compose([\n",
    "        SideCrop(),\n",
    "        transforms.Resize((opt.image_size,opt.image_size)),\n",
    "        transforms.RandomHorizontalFlip(p=0.5),\n",
    "        transforms.RandomVerticalFlip(p=0.5),\n",
    "        transforms.RandomAffine(degrees=[-10, 10], translate=(0.1, 0.1), scale=(0.5, 1.5)),\n",
    "        transforms.RandomRotation(degrees=10),\n",
    "        transforms.ToTensor(),\n",
    "        transforms.Normalize([0.485, 0.456, 0.406], [0.229, 0.224, 0.225]),\n",
    "        ]),\n",
    "    'val': transforms.Compose([\n",
    "        SideCrop(),\n",
    "        transforms.Resize((opt.image_size,opt.image_size)),\n",
    "        transforms.ToTensor(),\n",
    "        transforms.Normalize([0.485, 0.456, 0.406], [0.229, 0.224, 0.225]),\n",
    "        ]),\n",
    "}"
   ]
  },
  {
   "cell_type": "code",
   "execution_count": 13,
   "id": "7623af9e",
   "metadata": {
    "execution": {
     "iopub.execute_input": "2022-08-16T13:22:38.324716Z",
     "iopub.status.busy": "2022-08-16T13:22:38.323921Z",
     "iopub.status.idle": "2022-08-16T13:22:38.333162Z",
     "shell.execute_reply": "2022-08-16T13:22:38.332609Z",
     "shell.execute_reply.started": "2022-08-16T13:16:46.605496Z"
    },
    "papermill": {
     "duration": 0.065453,
     "end_time": "2022-08-16T13:22:38.333322",
     "exception": false,
     "start_time": "2022-08-16T13:22:38.267869",
     "status": "completed"
    },
    "tags": []
   },
   "outputs": [],
   "source": [
    "# Datasetの設定\n",
    "class XrayDataset(Dataset):\n",
    "    def __init__(self, image_name_list, label_list, img_dir, transform=None, phase=None):\n",
    "        self.image_name_list = image_name_list # 画像ファイル名\n",
    "        self.label_list = label_list # ラベル\n",
    "        self.img_dir = img_dir # 画像データのディレクトリ\n",
    "        self.phase = phase # 変数phaseで学習(train)もしくは検証(val)の設定を行う\n",
    "        self.transform = transform\n",
    "\n",
    "    def __len__(self):\n",
    "        return len(self.image_name_list) # 1エポックあたりに読み込むデータ数として、入力データの数を指定\n",
    "\n",
    "    def __getitem__(self, index):\n",
    "        \n",
    "        # index番目の画像を読み込み、前処理を行う\n",
    "        image_path = os.path.join(self.img_dir, self.image_name_list[index]) # train_master.iloc[index, 0]はファイル名を抽出\n",
    "        img = Image.open(image_path).convert('RGB')\n",
    "        img = self.transform[self.phase](img)\n",
    "        \n",
    "        # index番目のラベルを取得する\n",
    "        label = self.label_list[index]\n",
    "        \n",
    "        return img, label"
   ]
  },
  {
   "cell_type": "markdown",
   "id": "c422fcf0",
   "metadata": {
    "papermill": {
     "duration": 0.050624,
     "end_time": "2022-08-16T13:22:38.435026",
     "exception": false,
     "start_time": "2022-08-16T13:22:38.384402",
     "status": "completed"
    },
    "tags": []
   },
   "source": [
    "# NORMALのテストデータを推論"
   ]
  },
  {
   "cell_type": "markdown",
   "id": "98cc7341",
   "metadata": {
    "papermill": {
     "duration": 0.050833,
     "end_time": "2022-08-16T13:22:38.536958",
     "exception": false,
     "start_time": "2022-08-16T13:22:38.486125",
     "status": "completed"
    },
    "tags": []
   },
   "source": [
    "## NORMALのテストデータのデータフレーム化"
   ]
  },
  {
   "cell_type": "code",
   "execution_count": 14,
   "id": "924936e4",
   "metadata": {
    "execution": {
     "iopub.execute_input": "2022-08-16T13:22:38.645225Z",
     "iopub.status.busy": "2022-08-16T13:22:38.644472Z",
     "iopub.status.idle": "2022-08-16T13:22:38.720723Z",
     "shell.execute_reply": "2022-08-16T13:22:38.721285Z",
     "shell.execute_reply.started": "2022-08-16T13:16:46.617912Z"
    },
    "papermill": {
     "duration": 0.133285,
     "end_time": "2022-08-16T13:22:38.721483",
     "exception": false,
     "start_time": "2022-08-16T13:22:38.588198",
     "status": "completed"
    },
    "tags": []
   },
   "outputs": [],
   "source": [
    "# ディレクトリ内の画像リスト作成\n",
    "normal = glob(test_normal_dir+'*.jpeg')"
   ]
  },
  {
   "cell_type": "code",
   "execution_count": 15,
   "id": "6033768f",
   "metadata": {
    "execution": {
     "iopub.execute_input": "2022-08-16T13:22:38.830753Z",
     "iopub.status.busy": "2022-08-16T13:22:38.830029Z",
     "iopub.status.idle": "2022-08-16T13:22:38.834788Z",
     "shell.execute_reply": "2022-08-16T13:22:38.835321Z",
     "shell.execute_reply.started": "2022-08-16T13:16:46.699048Z"
    },
    "papermill": {
     "duration": 0.061664,
     "end_time": "2022-08-16T13:22:38.835529",
     "exception": false,
     "start_time": "2022-08-16T13:22:38.773865",
     "status": "completed"
    },
    "tags": []
   },
   "outputs": [],
   "source": [
    "# テストデータのリストを作成\n",
    "test_file_list = []\n",
    "\n",
    "for path in normal:\n",
    "    file_name = re.split('[////////]', path)[8]\n",
    "    test_file_list.append(file_name)\n",
    "    #print(file_name)"
   ]
  },
  {
   "cell_type": "code",
   "execution_count": 16,
   "id": "670fc4f2",
   "metadata": {
    "execution": {
     "iopub.execute_input": "2022-08-16T13:22:38.941368Z",
     "iopub.status.busy": "2022-08-16T13:22:38.940660Z",
     "iopub.status.idle": "2022-08-16T13:22:38.970051Z",
     "shell.execute_reply": "2022-08-16T13:22:38.968886Z",
     "shell.execute_reply.started": "2022-08-16T13:16:46.705587Z"
    },
    "papermill": {
     "duration": 0.083612,
     "end_time": "2022-08-16T13:22:38.970340",
     "exception": false,
     "start_time": "2022-08-16T13:22:38.886728",
     "status": "completed"
    },
    "tags": []
   },
   "outputs": [
    {
     "name": "stdout",
     "output_type": "stream",
     "text": [
      "                          name label\n",
      "0    NORMAL2-IM-0336-0001.jpeg  None\n",
      "1            IM-0101-0001.jpeg  None\n",
      "2    NORMAL2-IM-0337-0001.jpeg  None\n",
      "3    NORMAL2-IM-0198-0001.jpeg  None\n",
      "4            IM-0013-0001.jpeg  None\n",
      "..                         ...   ...\n",
      "229  NORMAL2-IM-0338-0001.jpeg  None\n",
      "230  NORMAL2-IM-0195-0001.jpeg  None\n",
      "231  NORMAL2-IM-0333-0001.jpeg  None\n",
      "232  NORMAL2-IM-0150-0001.jpeg  None\n",
      "233          IM-0010-0001.jpeg  None\n",
      "\n",
      "[234 rows x 2 columns]\n",
      "234\n"
     ]
    }
   ],
   "source": [
    "# ファイル名とラベルのデータフレームを作成\n",
    "test_normal_df = pd.DataFrame({'name':test_file_list})\n",
    "test_normal_df['label'] = None\n",
    "\n",
    "print(test_normal_df)\n",
    "print(len(test_normal_df))"
   ]
  },
  {
   "cell_type": "code",
   "execution_count": 17,
   "id": "dd2d90c7",
   "metadata": {
    "execution": {
     "iopub.execute_input": "2022-08-16T13:22:39.087349Z",
     "iopub.status.busy": "2022-08-16T13:22:39.086457Z",
     "iopub.status.idle": "2022-08-16T13:22:39.089474Z",
     "shell.execute_reply": "2022-08-16T13:22:39.090087Z",
     "shell.execute_reply.started": "2022-08-16T13:16:46.734484Z"
    },
    "papermill": {
     "duration": 0.063523,
     "end_time": "2022-08-16T13:22:39.090281",
     "exception": false,
     "start_time": "2022-08-16T13:22:39.026758",
     "status": "completed"
    },
    "tags": []
   },
   "outputs": [],
   "source": [
    "# 画像データの名前リストの抽出\n",
    "x_test_normal = test_normal_df['name'].values\n",
    "dummy = test_normal_df['name'].values\n",
    "#print(x_test_normal, f'データ数：{len(x_test_normal)}')"
   ]
  },
  {
   "cell_type": "code",
   "execution_count": 18,
   "id": "1b92cb21",
   "metadata": {
    "execution": {
     "iopub.execute_input": "2022-08-16T13:22:39.199717Z",
     "iopub.status.busy": "2022-08-16T13:22:39.198716Z",
     "iopub.status.idle": "2022-08-16T13:22:39.202960Z",
     "shell.execute_reply": "2022-08-16T13:22:39.203560Z",
     "shell.execute_reply.started": "2022-08-16T13:16:46.741342Z"
    },
    "papermill": {
     "duration": 0.061444,
     "end_time": "2022-08-16T13:22:39.203749",
     "exception": false,
     "start_time": "2022-08-16T13:22:39.142305",
     "status": "completed"
    },
    "tags": []
   },
   "outputs": [],
   "source": [
    "# Datasetのインスタンス作成\n",
    "test_normal_dataset = XrayDataset(x_test_normal, dummy, test_normal_dir, transform=transform, phase='val')"
   ]
  },
  {
   "cell_type": "code",
   "execution_count": 19,
   "id": "dedc9d33",
   "metadata": {
    "execution": {
     "iopub.execute_input": "2022-08-16T13:22:39.315868Z",
     "iopub.status.busy": "2022-08-16T13:22:39.314756Z",
     "iopub.status.idle": "2022-08-16T13:22:39.317881Z",
     "shell.execute_reply": "2022-08-16T13:22:39.317341Z",
     "shell.execute_reply.started": "2022-08-16T13:16:46.751907Z"
    },
    "papermill": {
     "duration": 0.061355,
     "end_time": "2022-08-16T13:22:39.318040",
     "exception": false,
     "start_time": "2022-08-16T13:22:39.256685",
     "status": "completed"
    },
    "tags": []
   },
   "outputs": [],
   "source": [
    "# DataLoader\n",
    "test_normal_dataloader = DataLoader(test_normal_dataset, batch_size=1, shuffle=False)"
   ]
  },
  {
   "cell_type": "code",
   "execution_count": 20,
   "id": "485df703",
   "metadata": {
    "execution": {
     "iopub.execute_input": "2022-08-16T13:22:39.435186Z",
     "iopub.status.busy": "2022-08-16T13:22:39.434463Z",
     "iopub.status.idle": "2022-08-16T13:22:39.502979Z",
     "shell.execute_reply": "2022-08-16T13:22:39.502328Z",
     "shell.execute_reply.started": "2022-08-16T13:16:46.764952Z"
    },
    "papermill": {
     "duration": 0.127424,
     "end_time": "2022-08-16T13:22:39.503144",
     "exception": false,
     "start_time": "2022-08-16T13:22:39.375720",
     "status": "completed"
    },
    "tags": []
   },
   "outputs": [
    {
     "name": "stdout",
     "output_type": "stream",
     "text": [
      "torch.Size([1, 3, 224, 224])\n",
      "('NORMAL2-IM-0336-0001.jpeg',)\n"
     ]
    }
   ],
   "source": [
    "# DataLoaderの確認\n",
    "train_iter = iter(test_normal_dataloader)\n",
    "imgs, labels = train_iter.next()\n",
    "print(imgs.size())\n",
    "print(labels)"
   ]
  },
  {
   "cell_type": "markdown",
   "id": "f520ca20",
   "metadata": {
    "papermill": {
     "duration": 0.053174,
     "end_time": "2022-08-16T13:22:39.608794",
     "exception": false,
     "start_time": "2022-08-16T13:22:39.555620",
     "status": "completed"
    },
    "tags": []
   },
   "source": [
    "## NORMALのテストデータの予測"
   ]
  },
  {
   "cell_type": "code",
   "execution_count": 21,
   "id": "95bab765",
   "metadata": {
    "execution": {
     "iopub.execute_input": "2022-08-16T13:22:39.725555Z",
     "iopub.status.busy": "2022-08-16T13:22:39.724826Z",
     "iopub.status.idle": "2022-08-16T13:26:36.795765Z",
     "shell.execute_reply": "2022-08-16T13:26:36.795143Z",
     "shell.execute_reply.started": "2022-08-16T13:16:46.826610Z"
    },
    "papermill": {
     "duration": 237.131278,
     "end_time": "2022-08-16T13:26:36.795952",
     "exception": false,
     "start_time": "2022-08-16T13:22:39.664674",
     "status": "completed"
    },
    "tags": []
   },
   "outputs": [],
   "source": [
    "# 予測データフレームの作成\n",
    "normal_preds = []\n",
    "\n",
    "# dataloaderから、ミニバッチ単位でデータを読み込む\n",
    "for images, _ in test_normal_dataloader:\n",
    "    \n",
    "    # 入力データをdeviceへ\n",
    "    images = images.to(device)\n",
    "    \n",
    "    # 学習済みモデルを推論モードに設定\n",
    "    model.eval()\n",
    "    \n",
    "    # モデルによる変換\n",
    "    outputs = model(images)\n",
    "    pred = torch.argmax(outputs, dim=1)\n",
    "    pred = pred.to('cpu').numpy()\n",
    "\n",
    "    # 予測値をリストに追加\n",
    "    normal_preds.extend(pred)"
   ]
  },
  {
   "cell_type": "code",
   "execution_count": 22,
   "id": "c82bef3d",
   "metadata": {
    "execution": {
     "iopub.execute_input": "2022-08-16T13:26:36.911935Z",
     "iopub.status.busy": "2022-08-16T13:26:36.911059Z",
     "iopub.status.idle": "2022-08-16T13:26:36.918438Z",
     "shell.execute_reply": "2022-08-16T13:26:36.917581Z",
     "shell.execute_reply.started": "2022-08-16T13:20:21.477217Z"
    },
    "papermill": {
     "duration": 0.067167,
     "end_time": "2022-08-16T13:26:36.918620",
     "exception": false,
     "start_time": "2022-08-16T13:26:36.851453",
     "status": "completed"
    },
    "tags": []
   },
   "outputs": [
    {
     "name": "stdout",
     "output_type": "stream",
     "text": [
      "[1, 1, 0, 1, 0, 0, 0, 0, 0, 0, 0, 0, 0, 1, 0, 0, 0, 0, 1, 1, 0, 0, 0, 0, 1, 1, 1, 0, 0, 0, 0, 1, 0, 1, 0, 1, 0, 0, 0, 0, 1, 0, 0, 0, 0, 0, 0, 1, 0, 0, 0, 0, 0, 1, 0, 0, 0, 0, 0, 0, 0, 1, 0, 0, 0, 0, 0, 0, 0, 0, 0, 1, 0, 0, 0, 0, 1, 0, 0, 0, 0, 0, 0, 0, 0, 0, 0, 0, 0, 0, 1, 0, 0, 0, 0, 0, 0, 0, 0, 0, 0, 1, 0, 0, 0, 1, 0, 1, 0, 1, 0, 0, 0, 1, 0, 0, 0, 0, 0, 0, 0, 0, 0, 0, 0, 0, 0, 0, 0, 1, 0, 1, 0, 0, 0, 0, 1, 0, 0, 0, 0, 0, 1, 0, 0, 0, 0, 1, 0, 0, 0, 0, 0, 1, 0, 0, 0, 1, 0, 0, 0, 0, 0, 0, 0, 0, 0, 0, 0, 0, 0, 0, 0, 1, 0, 1, 0, 1, 0, 0, 0, 0, 0, 0, 1, 0, 0, 0, 0, 0, 0, 0, 0, 1, 1, 0, 1, 0, 0, 1, 0, 0, 0, 0, 0, 0, 0, 1, 0, 0, 0, 1, 0, 0, 1, 0, 0, 1, 0, 0, 0, 1, 0, 0, 1, 1, 0, 0, 0, 1, 1, 0, 0, 0]\n",
      "正解率： 0.7948717948717948\n"
     ]
    }
   ],
   "source": [
    "# 予測結果と正解率の確認\n",
    "print(normal_preds)\n",
    "print('正解率：',normal_preds.count(0)/len(normal_preds))"
   ]
  },
  {
   "cell_type": "code",
   "execution_count": 23,
   "id": "d47953bb",
   "metadata": {
    "execution": {
     "iopub.execute_input": "2022-08-16T13:26:37.041319Z",
     "iopub.status.busy": "2022-08-16T13:26:37.040542Z",
     "iopub.status.idle": "2022-08-16T13:26:37.045364Z",
     "shell.execute_reply": "2022-08-16T13:26:37.046094Z",
     "shell.execute_reply.started": "2022-08-16T13:20:21.483580Z"
    },
    "papermill": {
     "duration": 0.070374,
     "end_time": "2022-08-16T13:26:37.046319",
     "exception": false,
     "start_time": "2022-08-16T13:26:36.975945",
     "status": "completed"
    },
    "tags": []
   },
   "outputs": [
    {
     "name": "stdout",
     "output_type": "stream",
     "text": [
      "                        name  label\n",
      "0  NORMAL2-IM-0336-0001.jpeg      1\n",
      "1          IM-0101-0001.jpeg      1\n",
      "2  NORMAL2-IM-0337-0001.jpeg      0\n",
      "3  NORMAL2-IM-0198-0001.jpeg      1\n",
      "4          IM-0013-0001.jpeg      0\n"
     ]
    }
   ],
   "source": [
    "# 目的変数カラムの置き換え\n",
    "test_normal_df['label'] = normal_preds\n",
    "print(test_normal_df.head())"
   ]
  },
  {
   "cell_type": "markdown",
   "id": "e4069387",
   "metadata": {
    "papermill": {
     "duration": 0.053868,
     "end_time": "2022-08-16T13:26:37.158695",
     "exception": false,
     "start_time": "2022-08-16T13:26:37.104827",
     "status": "completed"
    },
    "tags": []
   },
   "source": [
    "# PNEUMONIAのテストデータを推論"
   ]
  },
  {
   "cell_type": "markdown",
   "id": "9c66fc10",
   "metadata": {
    "papermill": {
     "duration": 0.060121,
     "end_time": "2022-08-16T13:26:37.276396",
     "exception": false,
     "start_time": "2022-08-16T13:26:37.216275",
     "status": "completed"
    },
    "tags": []
   },
   "source": [
    "## PNEUMONIAのテストデータのデータフレーム化"
   ]
  },
  {
   "cell_type": "code",
   "execution_count": 24,
   "id": "1df44eda",
   "metadata": {
    "execution": {
     "iopub.execute_input": "2022-08-16T13:26:37.395395Z",
     "iopub.status.busy": "2022-08-16T13:26:37.394732Z",
     "iopub.status.idle": "2022-08-16T13:26:37.497744Z",
     "shell.execute_reply": "2022-08-16T13:26:37.498252Z",
     "shell.execute_reply.started": "2022-08-16T13:20:21.497364Z"
    },
    "papermill": {
     "duration": 0.164602,
     "end_time": "2022-08-16T13:26:37.498463",
     "exception": false,
     "start_time": "2022-08-16T13:26:37.333861",
     "status": "completed"
    },
    "tags": []
   },
   "outputs": [],
   "source": [
    "# ディレクトリ内の画像リスト作成\n",
    "pneumonia = glob(test_pneumonia_dir+'*.jpeg')"
   ]
  },
  {
   "cell_type": "code",
   "execution_count": 25,
   "id": "2d059d96",
   "metadata": {
    "execution": {
     "iopub.execute_input": "2022-08-16T13:26:37.614890Z",
     "iopub.status.busy": "2022-08-16T13:26:37.614107Z",
     "iopub.status.idle": "2022-08-16T13:26:37.620184Z",
     "shell.execute_reply": "2022-08-16T13:26:37.620726Z",
     "shell.execute_reply.started": "2022-08-16T13:20:21.642777Z"
    },
    "papermill": {
     "duration": 0.068184,
     "end_time": "2022-08-16T13:26:37.620933",
     "exception": false,
     "start_time": "2022-08-16T13:26:37.552749",
     "status": "completed"
    },
    "tags": []
   },
   "outputs": [],
   "source": [
    "# テストデータのリストを作成\n",
    "test_file_list = []\n",
    "\n",
    "for path in pneumonia:\n",
    "    file_name = re.split('[////////]', path)[8]\n",
    "    test_file_list.append(file_name)\n",
    "    #print(file_name)"
   ]
  },
  {
   "cell_type": "code",
   "execution_count": 26,
   "id": "4481a15b",
   "metadata": {
    "execution": {
     "iopub.execute_input": "2022-08-16T13:26:37.736127Z",
     "iopub.status.busy": "2022-08-16T13:26:37.735410Z",
     "iopub.status.idle": "2022-08-16T13:26:37.747775Z",
     "shell.execute_reply": "2022-08-16T13:26:37.747023Z",
     "shell.execute_reply.started": "2022-08-16T13:20:21.648302Z"
    },
    "papermill": {
     "duration": 0.070842,
     "end_time": "2022-08-16T13:26:37.747937",
     "exception": false,
     "start_time": "2022-08-16T13:26:37.677095",
     "status": "completed"
    },
    "tags": []
   },
   "outputs": [
    {
     "name": "stdout",
     "output_type": "stream",
     "text": [
      "                            name label\n",
      "0     person1676_virus_2892.jpeg  None\n",
      "1     person1650_virus_2852.jpeg  None\n",
      "2         person22_virus_55.jpeg  None\n",
      "3    person122_bacteria_582.jpeg  None\n",
      "4     person85_bacteria_417.jpeg  None\n",
      "..                           ...   ...\n",
      "385   person1659_virus_2867.jpeg  None\n",
      "386   person1615_virus_2801.jpeg  None\n",
      "387   person1664_virus_2877.jpeg  None\n",
      "388  person111_bacteria_536.jpeg  None\n",
      "389  person152_bacteria_724.jpeg  None\n",
      "\n",
      "[390 rows x 2 columns]\n",
      "390\n"
     ]
    }
   ],
   "source": [
    "# ファイル名とラベルのデータフレームを作成\n",
    "test_pneumonia_df = pd.DataFrame({'name':test_file_list})\n",
    "test_pneumonia_df['label'] = None\n",
    "\n",
    "print(test_pneumonia_df)\n",
    "print(len(test_pneumonia_df))"
   ]
  },
  {
   "cell_type": "code",
   "execution_count": 27,
   "id": "995d4232",
   "metadata": {
    "execution": {
     "iopub.execute_input": "2022-08-16T13:26:37.867136Z",
     "iopub.status.busy": "2022-08-16T13:26:37.866352Z",
     "iopub.status.idle": "2022-08-16T13:26:37.868738Z",
     "shell.execute_reply": "2022-08-16T13:26:37.869220Z",
     "shell.execute_reply.started": "2022-08-16T13:20:21.666965Z"
    },
    "papermill": {
     "duration": 0.066139,
     "end_time": "2022-08-16T13:26:37.869432",
     "exception": false,
     "start_time": "2022-08-16T13:26:37.803293",
     "status": "completed"
    },
    "tags": []
   },
   "outputs": [],
   "source": [
    "# 画像データの名前リストの抽出\n",
    "x_test_pneumonia = test_pneumonia_df['name'].values\n",
    "dummy = test_pneumonia_df['name'].values\n",
    "#print(x_test_pneumonia, f'データ数：{len(x_test_pneumonia)}')"
   ]
  },
  {
   "cell_type": "code",
   "execution_count": 28,
   "id": "b9b23025",
   "metadata": {
    "execution": {
     "iopub.execute_input": "2022-08-16T13:26:37.988761Z",
     "iopub.status.busy": "2022-08-16T13:26:37.988018Z",
     "iopub.status.idle": "2022-08-16T13:26:37.991799Z",
     "shell.execute_reply": "2022-08-16T13:26:37.992340Z",
     "shell.execute_reply.started": "2022-08-16T13:20:21.676296Z"
    },
    "papermill": {
     "duration": 0.065103,
     "end_time": "2022-08-16T13:26:37.992586",
     "exception": false,
     "start_time": "2022-08-16T13:26:37.927483",
     "status": "completed"
    },
    "tags": []
   },
   "outputs": [],
   "source": [
    "# Datasetのインスタンス作成\n",
    "test_pneumonia_dataset = XrayDataset(x_test_pneumonia, dummy, test_pneumonia_dir, transform=transform, phase='val')"
   ]
  },
  {
   "cell_type": "code",
   "execution_count": 29,
   "id": "7478a6b9",
   "metadata": {
    "execution": {
     "iopub.execute_input": "2022-08-16T13:26:38.115875Z",
     "iopub.status.busy": "2022-08-16T13:26:38.114891Z",
     "iopub.status.idle": "2022-08-16T13:26:38.118907Z",
     "shell.execute_reply": "2022-08-16T13:26:38.119419Z",
     "shell.execute_reply.started": "2022-08-16T13:20:21.687286Z"
    },
    "papermill": {
     "duration": 0.066972,
     "end_time": "2022-08-16T13:26:38.119833",
     "exception": false,
     "start_time": "2022-08-16T13:26:38.052861",
     "status": "completed"
    },
    "tags": []
   },
   "outputs": [],
   "source": [
    "# DataLoader\n",
    "test_pneumonia_dataloader = DataLoader(test_pneumonia_dataset, batch_size=1, shuffle=False)"
   ]
  },
  {
   "cell_type": "code",
   "execution_count": 30,
   "id": "4f0cc750",
   "metadata": {
    "execution": {
     "iopub.execute_input": "2022-08-16T13:26:38.236976Z",
     "iopub.status.busy": "2022-08-16T13:26:38.235977Z",
     "iopub.status.idle": "2022-08-16T13:26:38.277698Z",
     "shell.execute_reply": "2022-08-16T13:26:38.278990Z",
     "shell.execute_reply.started": "2022-08-16T13:20:21.699132Z"
    },
    "papermill": {
     "duration": 0.103034,
     "end_time": "2022-08-16T13:26:38.279356",
     "exception": false,
     "start_time": "2022-08-16T13:26:38.176322",
     "status": "completed"
    },
    "tags": []
   },
   "outputs": [
    {
     "name": "stdout",
     "output_type": "stream",
     "text": [
      "torch.Size([1, 3, 224, 224])\n",
      "('person1676_virus_2892.jpeg',)\n"
     ]
    }
   ],
   "source": [
    "# DataLoaderの確認\n",
    "train_iter = iter(test_pneumonia_dataloader)\n",
    "imgs, labels = train_iter.next()\n",
    "print(imgs.size())\n",
    "print(labels)"
   ]
  },
  {
   "cell_type": "markdown",
   "id": "29aec011",
   "metadata": {
    "papermill": {
     "duration": 0.054286,
     "end_time": "2022-08-16T13:26:38.391250",
     "exception": false,
     "start_time": "2022-08-16T13:26:38.336964",
     "status": "completed"
    },
    "tags": []
   },
   "source": [
    "## PNEUMONIAのテストデータの予測"
   ]
  },
  {
   "cell_type": "code",
   "execution_count": 31,
   "id": "242a3bf6",
   "metadata": {
    "execution": {
     "iopub.execute_input": "2022-08-16T13:26:38.511795Z",
     "iopub.status.busy": "2022-08-16T13:26:38.510776Z",
     "iopub.status.idle": "2022-08-16T13:33:04.976568Z",
     "shell.execute_reply": "2022-08-16T13:33:04.977138Z"
    },
    "papermill": {
     "duration": 386.528166,
     "end_time": "2022-08-16T13:33:04.977381",
     "exception": false,
     "start_time": "2022-08-16T13:26:38.449215",
     "status": "completed"
    },
    "tags": []
   },
   "outputs": [],
   "source": [
    "# 予測データフレームの作成\n",
    "pneumonia_preds = []\n",
    "\n",
    "# dataloaderから、ミニバッチ単位でデータを読み込む\n",
    "for images, _ in test_pneumonia_dataloader:\n",
    "    \n",
    "    # 入力データをdeviceへ\n",
    "    images = images.to(device)\n",
    "    \n",
    "    # 学習済みモデルを推論モードに設定\n",
    "    model.eval()\n",
    "    \n",
    "    # モデルによる変換\n",
    "    outputs = model(images)\n",
    "    pred = torch.argmax(outputs, dim=1)\n",
    "    pred = pred.to('cpu').numpy()\n",
    "\n",
    "    # 予測値をリストに追加\n",
    "    pneumonia_preds.extend(pred)"
   ]
  },
  {
   "cell_type": "code",
   "execution_count": 32,
   "id": "db28d5f4",
   "metadata": {
    "execution": {
     "iopub.execute_input": "2022-08-16T13:33:05.095369Z",
     "iopub.status.busy": "2022-08-16T13:33:05.094586Z",
     "iopub.status.idle": "2022-08-16T13:33:05.100256Z",
     "shell.execute_reply": "2022-08-16T13:33:05.100810Z"
    },
    "papermill": {
     "duration": 0.06526,
     "end_time": "2022-08-16T13:33:05.100993",
     "exception": false,
     "start_time": "2022-08-16T13:33:05.035733",
     "status": "completed"
    },
    "tags": []
   },
   "outputs": [
    {
     "name": "stdout",
     "output_type": "stream",
     "text": [
      "[1, 1, 1, 1, 1, 1, 1, 1, 1, 1, 1, 1, 1, 1, 1, 1, 1, 1, 1, 1, 1, 1, 1, 1, 1, 1, 1, 1, 1, 1, 1, 1, 1, 1, 1, 1, 1, 1, 1, 1, 1, 1, 1, 1, 1, 1, 1, 1, 1, 1, 1, 1, 1, 1, 1, 1, 1, 1, 1, 1, 1, 1, 1, 1, 1, 1, 1, 1, 1, 1, 1, 1, 1, 1, 1, 1, 1, 1, 1, 1, 1, 1, 1, 1, 1, 1, 1, 1, 1, 1, 1, 1, 1, 1, 1, 1, 1, 1, 1, 1, 1, 1, 1, 1, 1, 1, 1, 1, 1, 1, 1, 1, 1, 1, 1, 1, 1, 1, 1, 1, 1, 1, 1, 1, 1, 1, 1, 1, 1, 1, 1, 1, 1, 1, 1, 1, 1, 1, 1, 1, 1, 1, 1, 1, 1, 1, 1, 1, 1, 1, 1, 1, 1, 1, 1, 1, 1, 1, 1, 1, 1, 1, 1, 1, 1, 1, 1, 1, 1, 1, 1, 1, 1, 1, 1, 1, 1, 1, 1, 1, 1, 1, 1, 1, 1, 1, 1, 1, 1, 1, 1, 1, 1, 1, 1, 1, 1, 1, 1, 1, 1, 1, 1, 1, 1, 1, 1, 1, 1, 1, 1, 1, 1, 1, 1, 1, 1, 1, 1, 1, 1, 1, 1, 1, 1, 1, 1, 1, 1, 1, 1, 1, 1, 1, 1, 1, 1, 1, 1, 1, 1, 0, 1, 1, 1, 1, 1, 1, 1, 1, 1, 1, 1, 1, 1, 1, 1, 1, 1, 1, 1, 1, 1, 1, 1, 1, 1, 1, 1, 1, 1, 1, 1, 0, 1, 1, 1, 1, 1, 1, 1, 1, 1, 1, 1, 1, 1, 1, 1, 1, 1, 1, 1, 1, 1, 1, 1, 1, 1, 1, 1, 1, 1, 1, 1, 1, 1, 1, 1, 1, 1, 1, 1, 1, 1, 1, 1, 1, 1, 1, 1, 1, 1, 1, 1, 1, 1, 1, 1, 1, 1, 1, 1, 1, 1, 1, 1, 1, 1, 0, 1, 1, 1, 1, 1, 1, 1, 1, 1, 1, 0, 1, 1, 1, 1, 1, 1, 1, 1, 1, 1, 1, 1, 1, 1, 1, 1, 1, 1, 1, 1, 1, 1, 1, 1, 1, 1, 1, 1, 1, 1, 1, 1, 1, 1, 1, 1, 1, 1, 1]\n",
      "正解率： 0.9897435897435898\n"
     ]
    }
   ],
   "source": [
    "# 予測結果と正解率の確認\n",
    "print(pneumonia_preds)\n",
    "print('正解率：',pneumonia_preds.count(1)/len(pneumonia_preds))"
   ]
  },
  {
   "cell_type": "code",
   "execution_count": 33,
   "id": "52fb064a",
   "metadata": {
    "execution": {
     "iopub.execute_input": "2022-08-16T13:33:05.226326Z",
     "iopub.status.busy": "2022-08-16T13:33:05.225644Z",
     "iopub.status.idle": "2022-08-16T13:33:05.234144Z",
     "shell.execute_reply": "2022-08-16T13:33:05.235113Z"
    },
    "papermill": {
     "duration": 0.076878,
     "end_time": "2022-08-16T13:33:05.235479",
     "exception": false,
     "start_time": "2022-08-16T13:33:05.158601",
     "status": "completed"
    },
    "tags": []
   },
   "outputs": [
    {
     "name": "stdout",
     "output_type": "stream",
     "text": [
      "                          name  label\n",
      "0   person1676_virus_2892.jpeg      1\n",
      "1   person1650_virus_2852.jpeg      1\n",
      "2       person22_virus_55.jpeg      1\n",
      "3  person122_bacteria_582.jpeg      1\n",
      "4   person85_bacteria_417.jpeg      1\n"
     ]
    }
   ],
   "source": [
    "# 目的変数カラムの置き換え\n",
    "test_pneumonia_df['label'] = pneumonia_preds\n",
    "print(test_pneumonia_df.head())"
   ]
  },
  {
   "cell_type": "markdown",
   "id": "745f7d5c",
   "metadata": {
    "papermill": {
     "duration": 0.062721,
     "end_time": "2022-08-16T13:33:05.359757",
     "exception": false,
     "start_time": "2022-08-16T13:33:05.297036",
     "status": "completed"
    },
    "tags": []
   },
   "source": [
    "# 混同行列"
   ]
  },
  {
   "cell_type": "code",
   "execution_count": 34,
   "id": "af148ad0",
   "metadata": {
    "execution": {
     "iopub.execute_input": "2022-08-16T13:33:05.486284Z",
     "iopub.status.busy": "2022-08-16T13:33:05.485268Z",
     "iopub.status.idle": "2022-08-16T13:33:05.490389Z",
     "shell.execute_reply": "2022-08-16T13:33:05.490916Z"
    },
    "papermill": {
     "duration": 0.067951,
     "end_time": "2022-08-16T13:33:05.491110",
     "exception": false,
     "start_time": "2022-08-16T13:33:05.423159",
     "status": "completed"
    },
    "tags": []
   },
   "outputs": [],
   "source": [
    "# 正解リスト\n",
    "normal_true = [0] * len(normal_preds)\n",
    "pneumonia_true = [1] * len(pneumonia_preds)\n",
    "y_true = normal_true + pneumonia_true\n",
    "#print(y_true)\n",
    "#print('データ数：', len(y_true))"
   ]
  },
  {
   "cell_type": "code",
   "execution_count": 35,
   "id": "e40b0a4b",
   "metadata": {
    "execution": {
     "iopub.execute_input": "2022-08-16T13:33:05.619600Z",
     "iopub.status.busy": "2022-08-16T13:33:05.618813Z",
     "iopub.status.idle": "2022-08-16T13:33:05.623419Z",
     "shell.execute_reply": "2022-08-16T13:33:05.622837Z"
    },
    "papermill": {
     "duration": 0.070465,
     "end_time": "2022-08-16T13:33:05.623586",
     "exception": false,
     "start_time": "2022-08-16T13:33:05.553121",
     "status": "completed"
    },
    "tags": []
   },
   "outputs": [],
   "source": [
    "# 予測リスト\n",
    "y_pred = normal_preds + pneumonia_preds\n",
    "#print(y_pred)\n",
    "#print('データ数：', len(y_pred))"
   ]
  },
  {
   "cell_type": "code",
   "execution_count": 36,
   "id": "0ab5667c",
   "metadata": {
    "execution": {
     "iopub.execute_input": "2022-08-16T13:33:05.749046Z",
     "iopub.status.busy": "2022-08-16T13:33:05.748276Z",
     "iopub.status.idle": "2022-08-16T13:33:05.931718Z",
     "shell.execute_reply": "2022-08-16T13:33:05.930936Z"
    },
    "papermill": {
     "duration": 0.245688,
     "end_time": "2022-08-16T13:33:05.932044",
     "exception": false,
     "start_time": "2022-08-16T13:33:05.686356",
     "status": "completed"
    },
    "tags": []
   },
   "outputs": [
    {
     "data": {
      "image/png": "[encoded data removed]",
      "text/plain": [
       "<Figure size 432x288 with 1 Axes>"
      ]
     },
     "metadata": {
      "needs_background": "light"
     },
     "output_type": "display_data"
    }
   ],
   "source": [
    "# 混同行列の作成と可視化\n",
    "cm = confusion_matrix(y_true, y_pred)\n",
    "\n",
    "sns.heatmap(cm, \n",
    "            annot=True, # 数字を表示\n",
    "            fmt='d', # 整数表示\n",
    "            cmap='Blues',\n",
    "            cbar=False # カラーバーを非表示\n",
    ")\n",
    "plt.show()"
   ]
  },
  {
   "cell_type": "markdown",
   "id": "f52639e0",
   "metadata": {
    "papermill": {
     "duration": 0.056912,
     "end_time": "2022-08-16T13:33:06.052455",
     "exception": false,
     "start_time": "2022-08-16T13:33:05.995543",
     "status": "completed"
    },
    "tags": []
   },
   "source": [
    "## 正解率"
   ]
  },
  {
   "cell_type": "markdown",
   "id": "68aee11c",
   "metadata": {
    "papermill": {
     "duration": 0.058035,
     "end_time": "2022-08-16T13:33:06.166999",
     "exception": false,
     "start_time": "2022-08-16T13:33:06.108964",
     "status": "completed"
    },
    "tags": []
   },
   "source": [
    "正解率（accuracy）は、すべてのサンプルのうち正解したサンプルの割合"
   ]
  },
  {
   "cell_type": "code",
   "execution_count": 37,
   "id": "3b089943",
   "metadata": {
    "execution": {
     "iopub.execute_input": "2022-08-16T13:33:06.284905Z",
     "iopub.status.busy": "2022-08-16T13:33:06.283989Z",
     "iopub.status.idle": "2022-08-16T13:33:06.289192Z",
     "shell.execute_reply": "2022-08-16T13:33:06.289699Z"
    },
    "papermill": {
     "duration": 0.066911,
     "end_time": "2022-08-16T13:33:06.289879",
     "exception": false,
     "start_time": "2022-08-16T13:33:06.222968",
     "status": "completed"
    },
    "tags": []
   },
   "outputs": [
    {
     "name": "stdout",
     "output_type": "stream",
     "text": [
      "0.9166666666666666\n"
     ]
    }
   ],
   "source": [
    "print(accuracy_score(y_true, y_pred))"
   ]
  },
  {
   "cell_type": "markdown",
   "id": "78538364",
   "metadata": {
    "papermill": {
     "duration": 0.060717,
     "end_time": "2022-08-16T13:33:06.406618",
     "exception": false,
     "start_time": "2022-08-16T13:33:06.345901",
     "status": "completed"
    },
    "tags": []
   },
   "source": [
    "## 適合率"
   ]
  },
  {
   "cell_type": "markdown",
   "id": "ca0940fa",
   "metadata": {
    "papermill": {
     "duration": 0.056437,
     "end_time": "2022-08-16T13:33:06.520414",
     "exception": false,
     "start_time": "2022-08-16T13:33:06.463977",
     "status": "completed"
    },
    "tags": []
   },
   "source": [
    "適合率（precision）は、陽性と予測されたサンプルのうち正解したサンプルの割合"
   ]
  },
  {
   "cell_type": "code",
   "execution_count": 38,
   "id": "397f46a0",
   "metadata": {
    "execution": {
     "iopub.execute_input": "2022-08-16T13:33:06.640451Z",
     "iopub.status.busy": "2022-08-16T13:33:06.639811Z",
     "iopub.status.idle": "2022-08-16T13:33:06.646889Z",
     "shell.execute_reply": "2022-08-16T13:33:06.647365Z"
    },
    "papermill": {
     "duration": 0.069415,
     "end_time": "2022-08-16T13:33:06.647576",
     "exception": false,
     "start_time": "2022-08-16T13:33:06.578161",
     "status": "completed"
    },
    "tags": []
   },
   "outputs": [
    {
     "name": "stdout",
     "output_type": "stream",
     "text": [
      "0.8894009216589862\n"
     ]
    }
   ],
   "source": [
    "print(precision_score(y_true, y_pred))"
   ]
  },
  {
   "cell_type": "markdown",
   "id": "29d8ab11",
   "metadata": {
    "papermill": {
     "duration": 0.058177,
     "end_time": "2022-08-16T13:33:06.763651",
     "exception": false,
     "start_time": "2022-08-16T13:33:06.705474",
     "status": "completed"
    },
    "tags": []
   },
   "source": [
    "## 再現率"
   ]
  },
  {
   "cell_type": "markdown",
   "id": "59acf3f9",
   "metadata": {
    "papermill": {
     "duration": 0.059094,
     "end_time": "2022-08-16T13:33:06.880367",
     "exception": false,
     "start_time": "2022-08-16T13:33:06.821273",
     "status": "completed"
    },
    "tags": []
   },
   "source": [
    "再現率（recall）は実際に陽性のサンプルのうち正解したサンプルの割合。sensitivityやhit rate, TPR（true positive rate, 真陽性率）などとも呼ばれる。"
   ]
  },
  {
   "cell_type": "code",
   "execution_count": 39,
   "id": "7012e3da",
   "metadata": {
    "execution": {
     "iopub.execute_input": "2022-08-16T13:33:07.001915Z",
     "iopub.status.busy": "2022-08-16T13:33:07.001154Z",
     "iopub.status.idle": "2022-08-16T13:33:07.006161Z",
     "shell.execute_reply": "2022-08-16T13:33:07.006858Z"
    },
    "papermill": {
     "duration": 0.067747,
     "end_time": "2022-08-16T13:33:07.007059",
     "exception": false,
     "start_time": "2022-08-16T13:33:06.939312",
     "status": "completed"
    },
    "tags": []
   },
   "outputs": [
    {
     "name": "stdout",
     "output_type": "stream",
     "text": [
      "0.9897435897435898\n"
     ]
    }
   ],
   "source": [
    "print(recall_score(y_true, y_pred))"
   ]
  },
  {
   "cell_type": "markdown",
   "id": "25b360ab",
   "metadata": {
    "papermill": {
     "duration": 0.056791,
     "end_time": "2022-08-16T13:33:07.121477",
     "exception": false,
     "start_time": "2022-08-16T13:33:07.064686",
     "status": "completed"
    },
    "tags": []
   },
   "source": [
    "## 特異度"
   ]
  },
  {
   "cell_type": "markdown",
   "id": "ed68be4a",
   "metadata": {
    "papermill": {
     "duration": 0.057162,
     "end_time": "2022-08-16T13:33:07.235982",
     "exception": false,
     "start_time": "2022-08-16T13:33:07.178820",
     "status": "completed"
    },
    "tags": []
   },
   "source": [
    "特異度（specificity）は実際に陰性のサンプルのうち正解したサンプルの割合"
   ]
  },
  {
   "cell_type": "code",
   "execution_count": 40,
   "id": "911b3fcb",
   "metadata": {
    "execution": {
     "iopub.execute_input": "2022-08-16T13:33:07.354198Z",
     "iopub.status.busy": "2022-08-16T13:33:07.353366Z",
     "iopub.status.idle": "2022-08-16T13:33:07.358885Z",
     "shell.execute_reply": "2022-08-16T13:33:07.359445Z"
    },
    "papermill": {
     "duration": 0.066322,
     "end_time": "2022-08-16T13:33:07.359655",
     "exception": false,
     "start_time": "2022-08-16T13:33:07.293333",
     "status": "completed"
    },
    "tags": []
   },
   "outputs": [],
   "source": [
    "tn, fp, fn, tp = confusion_matrix(y_true, y_pred).ravel()"
   ]
  },
  {
   "cell_type": "code",
   "execution_count": 41,
   "id": "0a5f78e9",
   "metadata": {
    "execution": {
     "iopub.execute_input": "2022-08-16T13:33:07.484123Z",
     "iopub.status.busy": "2022-08-16T13:33:07.483383Z",
     "iopub.status.idle": "2022-08-16T13:33:07.489813Z",
     "shell.execute_reply": "2022-08-16T13:33:07.490382Z"
    },
    "papermill": {
     "duration": 0.069142,
     "end_time": "2022-08-16T13:33:07.490610",
     "exception": false,
     "start_time": "2022-08-16T13:33:07.421468",
     "status": "completed"
    },
    "tags": []
   },
   "outputs": [
    {
     "name": "stdout",
     "output_type": "stream",
     "text": [
      "0.7948717948717948\n"
     ]
    }
   ],
   "source": [
    "print(tn / (tn + fp))"
   ]
  },
  {
   "cell_type": "markdown",
   "id": "babc076f",
   "metadata": {
    "papermill": {
     "duration": 0.057651,
     "end_time": "2022-08-16T13:33:07.607258",
     "exception": false,
     "start_time": "2022-08-16T13:33:07.549607",
     "status": "completed"
    },
    "tags": []
   },
   "source": [
    "## F1値"
   ]
  },
  {
   "cell_type": "markdown",
   "id": "d9b01e31",
   "metadata": {
    "papermill": {
     "duration": 0.058648,
     "end_time": "2022-08-16T13:33:07.723738",
     "exception": false,
     "start_time": "2022-08-16T13:33:07.665090",
     "status": "completed"
    },
    "tags": []
   },
   "source": [
    "F1値（F1-measure）は適合率と再現率の調和平均。"
   ]
  },
  {
   "cell_type": "code",
   "execution_count": 42,
   "id": "cd627940",
   "metadata": {
    "execution": {
     "iopub.execute_input": "2022-08-16T13:33:07.854325Z",
     "iopub.status.busy": "2022-08-16T13:33:07.853267Z",
     "iopub.status.idle": "2022-08-16T13:33:07.860742Z",
     "shell.execute_reply": "2022-08-16T13:33:07.861445Z"
    },
    "papermill": {
     "duration": 0.076692,
     "end_time": "2022-08-16T13:33:07.861681",
     "exception": false,
     "start_time": "2022-08-16T13:33:07.784989",
     "status": "completed"
    },
    "tags": []
   },
   "outputs": [
    {
     "name": "stdout",
     "output_type": "stream",
     "text": [
      "0.9368932038834952\n"
     ]
    }
   ],
   "source": [
    "print(f1_score(y_true, y_pred))"
   ]
  },
  {
   "cell_type": "markdown",
   "id": "aa22c570",
   "metadata": {
    "papermill": {
     "duration": 0.0592,
     "end_time": "2022-08-16T13:33:07.984212",
     "exception": false,
     "start_time": "2022-08-16T13:33:07.925012",
     "status": "completed"
    },
    "tags": []
   },
   "source": [
    "# 予測データフレームの結合・出力"
   ]
  },
  {
   "cell_type": "code",
   "execution_count": 43,
   "id": "cd85683e",
   "metadata": {
    "execution": {
     "iopub.execute_input": "2022-08-16T13:33:08.129326Z",
     "iopub.status.busy": "2022-08-16T13:33:08.128453Z",
     "iopub.status.idle": "2022-08-16T13:33:08.133366Z",
     "shell.execute_reply": "2022-08-16T13:33:08.131827Z"
    },
    "papermill": {
     "duration": 0.086249,
     "end_time": "2022-08-16T13:33:08.133618",
     "exception": false,
     "start_time": "2022-08-16T13:33:08.047369",
     "status": "completed"
    },
    "tags": []
   },
   "outputs": [
    {
     "name": "stdout",
     "output_type": "stream",
     "text": [
      "                            name      label\n",
      "0      NORMAL2-IM-0336-0001.jpeg  PNEUMONIA\n",
      "1              IM-0101-0001.jpeg  PNEUMONIA\n",
      "2      NORMAL2-IM-0337-0001.jpeg     NORMAL\n",
      "3      NORMAL2-IM-0198-0001.jpeg  PNEUMONIA\n",
      "4              IM-0013-0001.jpeg     NORMAL\n",
      "..                           ...        ...\n",
      "385   person1659_virus_2867.jpeg  PNEUMONIA\n",
      "386   person1615_virus_2801.jpeg  PNEUMONIA\n",
      "387   person1664_virus_2877.jpeg  PNEUMONIA\n",
      "388  person111_bacteria_536.jpeg  PNEUMONIA\n",
      "389  person152_bacteria_724.jpeg  PNEUMONIA\n",
      "\n",
      "[624 rows x 2 columns]\n"
     ]
    }
   ],
   "source": [
    "df = pd.concat([test_normal_df, test_pneumonia_df])\n",
    "df['label'] = df['label'].map({0: 'NORMAL',\n",
    "                               1: 'PNEUMONIA'})\n",
    "print(df)"
   ]
  },
  {
   "cell_type": "code",
   "execution_count": 44,
   "id": "9bf32eab",
   "metadata": {
    "execution": {
     "iopub.execute_input": "2022-08-16T13:33:08.267910Z",
     "iopub.status.busy": "2022-08-16T13:33:08.267159Z",
     "iopub.status.idle": "2022-08-16T13:33:08.274072Z",
     "shell.execute_reply": "2022-08-16T13:33:08.274639Z"
    },
    "papermill": {
     "duration": 0.07612,
     "end_time": "2022-08-16T13:33:08.274848",
     "exception": false,
     "start_time": "2022-08-16T13:33:08.198728",
     "status": "completed"
    },
    "tags": []
   },
   "outputs": [],
   "source": [
    "# データフレームの出力\n",
    "df.to_csv('/kaggle/working/submission.csv', index = False)"
   ]
  }
 ],
 "metadata": {
  "kernelspec": {
   "display_name": "Python 3",
   "language": "python",
   "name": "python3"
  },
  "language_info": {
   "codemirror_mode": {
    "name": "ipython",
    "version": 3
   },
   "file_extension": ".py",
   "mimetype": "text/x-python",
   "name": "python",
   "nbconvert_exporter": "python",
   "pygments_lexer": "ipython3",
   "version": "3.7.12"
  },
  "papermill": {
   "default_parameters": {},
   "duration": 666.101605,
   "end_time": "2022-08-16T13:33:09.551912",
   "environment_variables": {},
   "exception": null,
   "input_path": "__notebook__.ipynb",
   "output_path": "__notebook__.ipynb",
   "parameters": {},
   "start_time": "2022-08-16T13:22:03.450307",
   "version": "2.3.3"
  }
 },
 "nbformat": 4,
 "nbformat_minor": 5
}
